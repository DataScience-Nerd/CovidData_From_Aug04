{
 "cells": [
  {
   "cell_type": "code",
   "execution_count": 1,
   "metadata": {},
   "outputs": [],
   "source": [
    "import pandas as pd\n",
    "import matplotlib.pyplot as plt"
   ]
  },
  {
   "cell_type": "code",
   "execution_count": 2,
   "metadata": {},
   "outputs": [],
   "source": [
    "data = pd.read_csv('covid_numbers.csv')"
   ]
  },
  {
   "cell_type": "code",
   "execution_count": 3,
   "metadata": {},
   "outputs": [
    {
     "data": {
      "text/html": [
       "<div>\n",
       "<style scoped>\n",
       "    .dataframe tbody tr th:only-of-type {\n",
       "        vertical-align: middle;\n",
       "    }\n",
       "\n",
       "    .dataframe tbody tr th {\n",
       "        vertical-align: top;\n",
       "    }\n",
       "\n",
       "    .dataframe thead th {\n",
       "        text-align: right;\n",
       "    }\n",
       "</style>\n",
       "<table border=\"1\" class=\"dataframe\">\n",
       "  <thead>\n",
       "    <tr style=\"text-align: right;\">\n",
       "      <th></th>\n",
       "      <th>srno</th>\n",
       "      <th>date</th>\n",
       "      <th>covid_cases</th>\n",
       "      <th>contact_cases</th>\n",
       "      <th>patients_relieved</th>\n",
       "      <th>unknown_sources</th>\n",
       "    </tr>\n",
       "  </thead>\n",
       "  <tbody>\n",
       "    <tr>\n",
       "      <th>0</th>\n",
       "      <td>1</td>\n",
       "      <td>4082020</td>\n",
       "      <td>1083</td>\n",
       "      <td>902</td>\n",
       "      <td>1021</td>\n",
       "      <td>71</td>\n",
       "    </tr>\n",
       "    <tr>\n",
       "      <th>1</th>\n",
       "      <td>2</td>\n",
       "      <td>5082020</td>\n",
       "      <td>1195</td>\n",
       "      <td>971</td>\n",
       "      <td>1234</td>\n",
       "      <td>79</td>\n",
       "    </tr>\n",
       "    <tr>\n",
       "      <th>2</th>\n",
       "      <td>3</td>\n",
       "      <td>6082020</td>\n",
       "      <td>1298</td>\n",
       "      <td>1017</td>\n",
       "      <td>800</td>\n",
       "      <td>76</td>\n",
       "    </tr>\n",
       "    <tr>\n",
       "      <th>3</th>\n",
       "      <td>4</td>\n",
       "      <td>7082020</td>\n",
       "      <td>1251</td>\n",
       "      <td>1061</td>\n",
       "      <td>814</td>\n",
       "      <td>73</td>\n",
       "    </tr>\n",
       "    <tr>\n",
       "      <th>4</th>\n",
       "      <td>5</td>\n",
       "      <td>8082020</td>\n",
       "      <td>1420</td>\n",
       "      <td>1216</td>\n",
       "      <td>1715</td>\n",
       "      <td>92</td>\n",
       "    </tr>\n",
       "    <tr>\n",
       "      <th>5</th>\n",
       "      <td>6</td>\n",
       "      <td>9082020</td>\n",
       "      <td>1211</td>\n",
       "      <td>1026</td>\n",
       "      <td>970</td>\n",
       "      <td>103</td>\n",
       "    </tr>\n",
       "    <tr>\n",
       "      <th>6</th>\n",
       "      <td>7</td>\n",
       "      <td>10082020</td>\n",
       "      <td>1184</td>\n",
       "      <td>956</td>\n",
       "      <td>784</td>\n",
       "      <td>114</td>\n",
       "    </tr>\n",
       "    <tr>\n",
       "      <th>7</th>\n",
       "      <td>8</td>\n",
       "      <td>11082020</td>\n",
       "      <td>1417</td>\n",
       "      <td>1242</td>\n",
       "      <td>1426</td>\n",
       "      <td>105</td>\n",
       "    </tr>\n",
       "    <tr>\n",
       "      <th>8</th>\n",
       "      <td>9</td>\n",
       "      <td>12082020</td>\n",
       "      <td>1212</td>\n",
       "      <td>1068</td>\n",
       "      <td>880</td>\n",
       "      <td>45</td>\n",
       "    </tr>\n",
       "    <tr>\n",
       "      <th>9</th>\n",
       "      <td>10</td>\n",
       "      <td>13082020</td>\n",
       "      <td>1564</td>\n",
       "      <td>1380</td>\n",
       "      <td>766</td>\n",
       "      <td>98</td>\n",
       "    </tr>\n",
       "    <tr>\n",
       "      <th>10</th>\n",
       "      <td>11</td>\n",
       "      <td>14082020</td>\n",
       "      <td>1569</td>\n",
       "      <td>1354</td>\n",
       "      <td>1304</td>\n",
       "      <td>86</td>\n",
       "    </tr>\n",
       "  </tbody>\n",
       "</table>\n",
       "</div>"
      ],
      "text/plain": [
       "    srno      date  covid_cases  contact_cases  patients_relieved  \\\n",
       "0      1   4082020         1083            902               1021   \n",
       "1      2   5082020         1195            971               1234   \n",
       "2      3   6082020         1298           1017                800   \n",
       "3      4   7082020         1251           1061                814   \n",
       "4      5   8082020         1420           1216               1715   \n",
       "5      6   9082020         1211           1026                970   \n",
       "6      7  10082020         1184            956                784   \n",
       "7      8  11082020         1417           1242               1426   \n",
       "8      9  12082020         1212           1068                880   \n",
       "9     10  13082020         1564           1380                766   \n",
       "10    11  14082020         1569           1354               1304   \n",
       "\n",
       "    unknown_sources  \n",
       "0                71  \n",
       "1                79  \n",
       "2                76  \n",
       "3                73  \n",
       "4                92  \n",
       "5               103  \n",
       "6               114  \n",
       "7               105  \n",
       "8                45  \n",
       "9                98  \n",
       "10               86  "
      ]
     },
     "execution_count": 3,
     "metadata": {},
     "output_type": "execute_result"
    }
   ],
   "source": [
    "data"
   ]
  },
  {
   "cell_type": "code",
   "execution_count": 4,
   "metadata": {},
   "outputs": [
    {
     "data": {
      "image/png": "[encoded data removed]",
      "text/plain": [
       "<Figure size 432x288 with 1 Axes>"
      ]
     },
     "metadata": {
      "needs_background": "light"
     },
     "output_type": "display_data"
    }
   ],
   "source": [
    "plt.plot(data['date'],data['covid_cases'])\n",
    "plt.show()"
   ]
  },
  {
   "cell_type": "code",
   "execution_count": 5,
   "metadata": {},
   "outputs": [
    {
     "data": {
      "image/png": "[encoded data removed]",
      "text/plain": [
       "<Figure size 432x288 with 2 Axes>"
      ]
     },
     "metadata": {
      "needs_background": "light"
     },
     "output_type": "display_data"
    }
   ],
   "source": [
    "fig,ax = plt.subplots()\n",
    "ax.plot(data['date'],data['covid_cases'],color='red',marker='o')\n",
    "ax.set_xlabel(\"date\",fontsize=14)\n",
    "ax.set_ylabel(\"covid_cases\",color=\"red\",fontsize=14)\n",
    "ax2=ax.twinx()\n",
    "ax2.plot(data['date'],data['unknown_sources'],color='orange',marker='*')\n",
    "ax2.set_ylabel(\"unknownsources\",color=\"orange\",fontsize=14)\n",
    "plt.show()"
   ]
  },
  {
   "cell_type": "code",
   "execution_count": 6,
   "metadata": {},
   "outputs": [],
   "source": [
    "fig.savefig('Analysis_Of_covidcases_With_Unknownsources.jpg',\n",
    "            format='jpeg',\n",
    "            dpi=100,\n",
    "            bbox_inches='tight')"
   ]
  },
  {
   "cell_type": "code",
   "execution_count": null,
   "metadata": {},
   "outputs": [],
   "source": []
  }
 ],
 "metadata": {
  "kernelspec": {
   "display_name": "Python 3",
   "language": "python",
   "name": "python3"
  },
  "language_info": {
   "codemirror_mode": {
    "name": "ipython",
    "version": 3
   },
   "file_extension": ".py",
   "mimetype": "text/x-python",
   "name": "python",
   "nbconvert_exporter": "python",
   "pygments_lexer": "ipython3",
   "version": "3.7.6"
  }
 },
 "nbformat": 4,
 "nbformat_minor": 4
}
