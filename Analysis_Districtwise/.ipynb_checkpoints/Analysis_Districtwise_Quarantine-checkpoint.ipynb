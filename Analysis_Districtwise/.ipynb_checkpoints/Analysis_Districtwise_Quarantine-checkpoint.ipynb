{
 "cells": [
  {
   "cell_type": "code",
   "execution_count": 2,
   "metadata": {},
   "outputs": [],
   "source": [
    "import numpy as np\n",
    "import pandas as pd\n",
    "import matplotlib.pyplot as plt\n",
    "import csv\n",
    "import json\n",
    "from collections import OrderedDict"
   ]
  },
  {
   "cell_type": "code",
   "execution_count": 33,
   "metadata": {},
   "outputs": [
    {
     "name": "stdout",
     "output_type": "stream",
     "text": [
      "         Date   KGD   KNR   WYD    KKD    MPM    PKD    TSR    EKM   IDK  \\\n",
      "0  04/08/2020  4032  9505  2875  12500  31212  10947  11978  12457  4141   \n",
      "\n",
      "    KTM   ALP   PTA   KLM    TVM  \n",
      "0  9396  6438  4588  9002  15991  \n"
     ]
    }
   ],
   "source": [
    "'''\n",
    "column = ['Date','KGD','KNR','WYD','KKD','MPM','PKD','TSR','EKM','IDK','KTM','ALP','PTA','KLM','TVM']\n",
    "data = [['04/08/2020',4032,9505,2875,12500,31212,10947,11978,12457,4141,9396,6438,4588,9002,15991]]\n",
    "quarantine_total = pd.DataFrame(data,columns=column)\n",
    "print(quarantine_total)\n",
    "quarantine_total.to_csv('data/quarantine_total.csv')\n",
    "'''"
   ]
  },
  {
   "cell_type": "code",
   "execution_count": 14,
   "metadata": {},
   "outputs": [],
   "source": [
    "def update_file(data,file_path):\n",
    "    sample = data\n",
    "    continue_ = 'n'\n",
    "    continue_ = input(\"Do you have to update the data  : (y/n)\")\n",
    "    while(continue_ =='y'):\n",
    "        print(\" Options !!\")\n",
    "        print(\"\\tAdd Column : c \\n\\tAdd row values : r\")\n",
    "        op = input(\"Enter your option\")\n",
    "        if op == 'c' :\n",
    "            print(\"-------------------\")\n",
    "            print(\"Adding column\")\n",
    "            print(\"-------------------\")\n",
    "            column_name = input(\"Enter Column name : \")\n",
    "            column_length = len(sample)\n",
    "            print(\"Enter your entries {0} :\".format(\"must be length of  \"),len(sample))\n",
    "            column = []\n",
    "            for i in range(column_length):\n",
    "                value = input()\n",
    "                column.append(value)\n",
    "            sample[column_name] = np.array(column)\n",
    "            print(sample)\n",
    "            save = input(\"Do you want to save changes (y/n): \")\n",
    "            if save == 'y' : \n",
    "                data = sample\n",
    "            continue_ = input(\"do you want to add more : (y/n)\")\n",
    "        if op == 'r' :\n",
    "            print(\"-------------------\")\n",
    "            print(\"Adding row values\")\n",
    "            print(\"-------------------\")\n",
    "            row = {}\n",
    "            d=[]\n",
    "            i=0\n",
    "            #finding the str type columns\n",
    "            for i in sample:\n",
    "                if t\n",
    "            \n",
    "            for key in sample.columns:\n",
    "                if i==1 :\n",
    "                    value = input(\"Enter {0}\".format(key))\n",
    "                else :\n",
    "                    value = int(input(\"Enter {0}\".format(key)))\n",
    "                row.update({key:value})\n",
    "                i = i+1\n",
    "            d.append(row)    \n",
    "            sample = sample.append(d,True)\n",
    "            print(sample)\n",
    "            save = input(\"Do you want to save these changes (y/n): \")\n",
    "            if save == 'y' : \n",
    "                data = sample\n",
    "                print(data)\n",
    "            continue_ = input(\"do you want to add more : (y/n)\")\n",
    "\n",
    "    print(\"Final : \")\n",
    "    print(data)\n",
    "    final_save = input(\"Do you want to overwrite covid_numbers.csv : (y/n) \")\n",
    "    if final_save == 'y':\n",
    "        data.to_csv(file_path, index = True)\n",
    "        print(\"Successully saved data\")"
   ]
  },
  {
   "cell_type": "code",
   "execution_count": 16,
   "metadata": {},
   "outputs": [
    {
     "name": "stdout",
     "output_type": "stream",
     "text": [
      "Do you have to update the data  : (y/n)y\n",
      " Options !!\n",
      "\tAdd Column : c \n",
      "\tAdd row values : r\n",
      "Enter your optionr\n",
      "-------------------\n",
      "Adding row values\n",
      "-------------------\n",
      "Enter Date05/08/2020\n"
     ]
    },
    {
     "ename": "ValueError",
     "evalue": "invalid literal for int() with base 10: '05/08/2020'",
     "output_type": "error",
     "traceback": [
      "\u001b[1;31m---------------------------------------------------------------------------\u001b[0m",
      "\u001b[1;31mValueError\u001b[0m                                Traceback (most recent call last)",
      "\u001b[1;32m<ipython-input-16-abee6fe8b4c6>\u001b[0m in \u001b[0;36m<module>\u001b[1;34m\u001b[0m\n\u001b[1;32m----> 1\u001b[1;33m \u001b[0mupdate_file\u001b[0m\u001b[1;33m(\u001b[0m\u001b[0mquarantine_total\u001b[0m\u001b[1;33m,\u001b[0m\u001b[1;34m'data/quarantine_total.csv'\u001b[0m\u001b[1;33m)\u001b[0m\u001b[1;33m\u001b[0m\u001b[1;33m\u001b[0m\u001b[0m\n\u001b[0m",
      "\u001b[1;32m<ipython-input-14-634eef478bb5>\u001b[0m in \u001b[0;36mupdate_file\u001b[1;34m(data, file_path)\u001b[0m\n\u001b[0;32m     35\u001b[0m                     \u001b[0mvalue\u001b[0m \u001b[1;33m=\u001b[0m \u001b[0minput\u001b[0m\u001b[1;33m(\u001b[0m\u001b[1;34m\"Enter {0}\"\u001b[0m\u001b[1;33m.\u001b[0m\u001b[0mformat\u001b[0m\u001b[1;33m(\u001b[0m\u001b[0mkey\u001b[0m\u001b[1;33m)\u001b[0m\u001b[1;33m)\u001b[0m\u001b[1;33m\u001b[0m\u001b[1;33m\u001b[0m\u001b[0m\n\u001b[0;32m     36\u001b[0m                 \u001b[1;32melse\u001b[0m \u001b[1;33m:\u001b[0m\u001b[1;33m\u001b[0m\u001b[1;33m\u001b[0m\u001b[0m\n\u001b[1;32m---> 37\u001b[1;33m                     \u001b[0mvalue\u001b[0m \u001b[1;33m=\u001b[0m \u001b[0mint\u001b[0m\u001b[1;33m(\u001b[0m\u001b[0minput\u001b[0m\u001b[1;33m(\u001b[0m\u001b[1;34m\"Enter {0}\"\u001b[0m\u001b[1;33m.\u001b[0m\u001b[0mformat\u001b[0m\u001b[1;33m(\u001b[0m\u001b[0mkey\u001b[0m\u001b[1;33m)\u001b[0m\u001b[1;33m)\u001b[0m\u001b[1;33m)\u001b[0m\u001b[1;33m\u001b[0m\u001b[1;33m\u001b[0m\u001b[0m\n\u001b[0m\u001b[0;32m     38\u001b[0m                 \u001b[0mrow\u001b[0m\u001b[1;33m.\u001b[0m\u001b[0mupdate\u001b[0m\u001b[1;33m(\u001b[0m\u001b[1;33m{\u001b[0m\u001b[0mkey\u001b[0m\u001b[1;33m:\u001b[0m\u001b[0mvalue\u001b[0m\u001b[1;33m}\u001b[0m\u001b[1;33m)\u001b[0m\u001b[1;33m\u001b[0m\u001b[1;33m\u001b[0m\u001b[0m\n\u001b[0;32m     39\u001b[0m                 \u001b[0mi\u001b[0m \u001b[1;33m=\u001b[0m \u001b[0mi\u001b[0m\u001b[1;33m+\u001b[0m\u001b[1;36m1\u001b[0m\u001b[1;33m\u001b[0m\u001b[1;33m\u001b[0m\u001b[0m\n",
      "\u001b[1;31mValueError\u001b[0m: invalid literal for int() with base 10: '05/08/2020'"
     ]
    }
   ],
   "source": [
    "update_file(quarantine_total,'data/quarantine_total.csv')"
   ]
  },
  {
   "cell_type": "code",
   "execution_count": 67,
   "metadata": {},
   "outputs": [
    {
     "name": "stdout",
     "output_type": "stream",
     "text": [
      "1\n"
     ]
    }
   ],
   "source": [
    "def find_strcolumn:\n",
    "for i in quarantine_total.values:\n",
    "    for j in i :\n",
    "        if type(j) is str:\n",
    "            \n",
    "            "
   ]
  },
  {
   "cell_type": "code",
   "execution_count": null,
   "metadata": {},
   "outputs": [],
   "source": []
  }
 ],
 "metadata": {
  "kernelspec": {
   "display_name": "Python 3",
   "language": "python",
   "name": "python3"
  },
  "language_info": {
   "codemirror_mode": {
    "name": "ipython",
    "version": 3
   },
   "file_extension": ".py",
   "mimetype": "text/x-python",
   "name": "python",
   "nbconvert_exporter": "python",
   "pygments_lexer": "ipython3",
   "version": "3.7.6"
  }
 },
 "nbformat": 4,
 "nbformat_minor": 4
}
