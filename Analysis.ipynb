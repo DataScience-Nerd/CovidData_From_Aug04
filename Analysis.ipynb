{
 "cells": [
  {
   "cell_type": "code",
   "execution_count": 1,
   "metadata": {},
   "outputs": [],
   "source": [
    "import pandas as pd\n",
    "import matplotlib.pyplot as plt\n",
    "import numpy as np"
   ]
  },
  {
   "cell_type": "code",
   "execution_count": 2,
   "metadata": {},
   "outputs": [],
   "source": [
    "data = pd.read_csv('covid_numbers.csv')"
   ]
  },
  {
   "cell_type": "code",
   "execution_count": 3,
   "metadata": {
    "scrolled": true
   },
   "outputs": [
    {
     "data": {
      "text/html": [
       "<div>\n",
       "<style scoped>\n",
       "    .dataframe tbody tr th:only-of-type {\n",
       "        vertical-align: middle;\n",
       "    }\n",
       "\n",
       "    .dataframe tbody tr th {\n",
       "        vertical-align: top;\n",
       "    }\n",
       "\n",
       "    .dataframe thead th {\n",
       "        text-align: right;\n",
       "    }\n",
       "</style>\n",
       "<table border=\"1\" class=\"dataframe\">\n",
       "  <thead>\n",
       "    <tr style=\"text-align: right;\">\n",
       "      <th></th>\n",
       "      <th>srno</th>\n",
       "      <th>date</th>\n",
       "      <th>covid_cases</th>\n",
       "      <th>contact_cases</th>\n",
       "      <th>patients_relieved</th>\n",
       "      <th>unknown_sources</th>\n",
       "      <th>Total_Active_Cases</th>\n",
       "    </tr>\n",
       "  </thead>\n",
       "  <tbody>\n",
       "    <tr>\n",
       "      <th>0</th>\n",
       "      <td>1</td>\n",
       "      <td>04/08/2020</td>\n",
       "      <td>1083</td>\n",
       "      <td>902</td>\n",
       "      <td>1021</td>\n",
       "      <td>71</td>\n",
       "      <td>11543</td>\n",
       "    </tr>\n",
       "    <tr>\n",
       "      <th>1</th>\n",
       "      <td>2</td>\n",
       "      <td>05/08/2020</td>\n",
       "      <td>1195</td>\n",
       "      <td>971</td>\n",
       "      <td>1234</td>\n",
       "      <td>79</td>\n",
       "      <td>11495</td>\n",
       "    </tr>\n",
       "    <tr>\n",
       "      <th>2</th>\n",
       "      <td>3</td>\n",
       "      <td>06/08/2020</td>\n",
       "      <td>1298</td>\n",
       "      <td>1017</td>\n",
       "      <td>800</td>\n",
       "      <td>76</td>\n",
       "      <td>11986</td>\n",
       "    </tr>\n",
       "    <tr>\n",
       "      <th>3</th>\n",
       "      <td>4</td>\n",
       "      <td>07/08/2020</td>\n",
       "      <td>1251</td>\n",
       "      <td>1061</td>\n",
       "      <td>814</td>\n",
       "      <td>73</td>\n",
       "      <td>12414</td>\n",
       "    </tr>\n",
       "    <tr>\n",
       "      <th>4</th>\n",
       "      <td>5</td>\n",
       "      <td>08/08/2020</td>\n",
       "      <td>1420</td>\n",
       "      <td>1216</td>\n",
       "      <td>1715</td>\n",
       "      <td>92</td>\n",
       "      <td>12112</td>\n",
       "    </tr>\n",
       "    <tr>\n",
       "      <th>5</th>\n",
       "      <td>6</td>\n",
       "      <td>09/08/2020</td>\n",
       "      <td>1211</td>\n",
       "      <td>1026</td>\n",
       "      <td>970</td>\n",
       "      <td>103</td>\n",
       "      <td>12350</td>\n",
       "    </tr>\n",
       "    <tr>\n",
       "      <th>6</th>\n",
       "      <td>7</td>\n",
       "      <td>10/08/2020</td>\n",
       "      <td>1184</td>\n",
       "      <td>956</td>\n",
       "      <td>784</td>\n",
       "      <td>114</td>\n",
       "      <td>12740</td>\n",
       "    </tr>\n",
       "    <tr>\n",
       "      <th>7</th>\n",
       "      <td>8</td>\n",
       "      <td>11/08/2020</td>\n",
       "      <td>1417</td>\n",
       "      <td>1242</td>\n",
       "      <td>1426</td>\n",
       "      <td>105</td>\n",
       "      <td>12724</td>\n",
       "    </tr>\n",
       "    <tr>\n",
       "      <th>8</th>\n",
       "      <td>9</td>\n",
       "      <td>12/08/2020</td>\n",
       "      <td>1212</td>\n",
       "      <td>1068</td>\n",
       "      <td>880</td>\n",
       "      <td>45</td>\n",
       "      <td>13048</td>\n",
       "    </tr>\n",
       "    <tr>\n",
       "      <th>9</th>\n",
       "      <td>10</td>\n",
       "      <td>13/08/2020</td>\n",
       "      <td>1564</td>\n",
       "      <td>1380</td>\n",
       "      <td>766</td>\n",
       "      <td>98</td>\n",
       "      <td>13842</td>\n",
       "    </tr>\n",
       "    <tr>\n",
       "      <th>10</th>\n",
       "      <td>11</td>\n",
       "      <td>14/08/2020</td>\n",
       "      <td>1569</td>\n",
       "      <td>1354</td>\n",
       "      <td>1304</td>\n",
       "      <td>86</td>\n",
       "      <td>14097</td>\n",
       "    </tr>\n",
       "    <tr>\n",
       "      <th>11</th>\n",
       "      <td>12</td>\n",
       "      <td>15/08/2020</td>\n",
       "      <td>1608</td>\n",
       "      <td>----</td>\n",
       "      <td>803</td>\n",
       "      <td>--</td>\n",
       "      <td>14894</td>\n",
       "    </tr>\n",
       "    <tr>\n",
       "      <th>12</th>\n",
       "      <td>13</td>\n",
       "      <td>16/08/2020</td>\n",
       "      <td>1530</td>\n",
       "      <td>----</td>\n",
       "      <td>1099</td>\n",
       "      <td>--</td>\n",
       "      <td>15313</td>\n",
       "    </tr>\n",
       "    <tr>\n",
       "      <th>13</th>\n",
       "      <td>14</td>\n",
       "      <td>17/08/2020</td>\n",
       "      <td>1725</td>\n",
       "      <td>----</td>\n",
       "      <td>1131</td>\n",
       "      <td>--</td>\n",
       "      <td>15893</td>\n",
       "    </tr>\n",
       "    <tr>\n",
       "      <th>14</th>\n",
       "      <td>15</td>\n",
       "      <td>18/08/2020</td>\n",
       "      <td>1758</td>\n",
       "      <td>----</td>\n",
       "      <td>1365</td>\n",
       "      <td>--</td>\n",
       "      <td>16277</td>\n",
       "    </tr>\n",
       "    <tr>\n",
       "      <th>15</th>\n",
       "      <td>16</td>\n",
       "      <td>19/08/2020</td>\n",
       "      <td>2333</td>\n",
       "      <td>----</td>\n",
       "      <td>1217</td>\n",
       "      <td>--</td>\n",
       "      <td>17385</td>\n",
       "    </tr>\n",
       "  </tbody>\n",
       "</table>\n",
       "</div>"
      ],
      "text/plain": [
       "    srno        date  covid_cases contact_cases  patients_relieved  \\\n",
       "0      1  04/08/2020         1083           902               1021   \n",
       "1      2  05/08/2020         1195           971               1234   \n",
       "2      3  06/08/2020         1298          1017                800   \n",
       "3      4  07/08/2020         1251          1061                814   \n",
       "4      5  08/08/2020         1420          1216               1715   \n",
       "5      6  09/08/2020         1211          1026                970   \n",
       "6      7  10/08/2020         1184           956                784   \n",
       "7      8  11/08/2020         1417          1242               1426   \n",
       "8      9  12/08/2020         1212          1068                880   \n",
       "9     10  13/08/2020         1564          1380                766   \n",
       "10    11  14/08/2020         1569          1354               1304   \n",
       "11    12  15/08/2020         1608          ----                803   \n",
       "12    13  16/08/2020         1530          ----               1099   \n",
       "13    14  17/08/2020         1725          ----               1131   \n",
       "14    15  18/08/2020         1758          ----               1365   \n",
       "15    16  19/08/2020         2333          ----               1217   \n",
       "\n",
       "   unknown_sources  Total_Active_Cases  \n",
       "0               71               11543  \n",
       "1               79               11495  \n",
       "2               76               11986  \n",
       "3               73               12414  \n",
       "4               92               12112  \n",
       "5              103               12350  \n",
       "6              114               12740  \n",
       "7              105               12724  \n",
       "8               45               13048  \n",
       "9               98               13842  \n",
       "10              86               14097  \n",
       "11              --               14894  \n",
       "12              --               15313  \n",
       "13              --               15893  \n",
       "14              --               16277  \n",
       "15              --               17385  "
      ]
     },
     "execution_count": 3,
     "metadata": {},
     "output_type": "execute_result"
    }
   ],
   "source": [
    "data"
   ]
  },
  {
   "cell_type": "code",
   "execution_count": 12,
   "metadata": {},
   "outputs": [
    {
     "name": "stdout",
     "output_type": "stream",
     "text": [
      "srno\n",
      "date\n",
      "covid_cases\n",
      "contact_cases\n",
      "patients_relieved\n",
      "unknown_sources\n",
      "Total_Active_Cases\n",
      "Death_rate\n"
     ]
    }
   ],
   "source": [
    "len(data.columns)\n",
    "for i in data.columns:\n",
    "    print(i)"
   ]
  },
  {
   "cell_type": "code",
   "execution_count": 5,
   "metadata": {},
   "outputs": [
    {
     "name": "stdout",
     "output_type": "stream",
     "text": [
      "Do you have to update the data covid_numbers.csv : (y/n)y\n",
      " Options !!\n",
      "\tAdd Column : c \n",
      "\tAdd row values : r\n",
      "Enter your optionc\n",
      "-------------------\n",
      "Adding column\n",
      "-------------------\n",
      "Enter Column name : Death_rate\n",
      "Enter your entries must be -  : 16\n",
      "3\n",
      "7\n",
      "3\n",
      "5\n",
      "4\n",
      "2\n",
      "7\n",
      "5\n",
      "6\n",
      "3\n",
      "10\n",
      "7\n",
      "10\n",
      "13\n",
      "6\n",
      "7\n",
      "    srno        date  covid_cases contact_cases  patients_relieved  \\\n",
      "0      1  04/08/2020         1083           902               1021   \n",
      "1      2  05/08/2020         1195           971               1234   \n",
      "2      3  06/08/2020         1298          1017                800   \n",
      "3      4  07/08/2020         1251          1061                814   \n",
      "4      5  08/08/2020         1420          1216               1715   \n",
      "5      6  09/08/2020         1211          1026                970   \n",
      "6      7  10/08/2020         1184           956                784   \n",
      "7      8  11/08/2020         1417          1242               1426   \n",
      "8      9  12/08/2020         1212          1068                880   \n",
      "9     10  13/08/2020         1564          1380                766   \n",
      "10    11  14/08/2020         1569          1354               1304   \n",
      "11    12  15/08/2020         1608          ----                803   \n",
      "12    13  16/08/2020         1530          ----               1099   \n",
      "13    14  17/08/2020         1725          ----               1131   \n",
      "14    15  18/08/2020         1758          ----               1365   \n",
      "15    16  19/08/2020         2333          ----               1217   \n",
      "\n",
      "   unknown_sources  Total_Active_Cases Death_rate  \n",
      "0               71               11543          3  \n",
      "1               79               11495          7  \n",
      "2               76               11986          3  \n",
      "3               73               12414          5  \n",
      "4               92               12112          4  \n",
      "5              103               12350          2  \n",
      "6              114               12740          7  \n",
      "7              105               12724          5  \n",
      "8               45               13048          6  \n",
      "9               98               13842          3  \n",
      "10              86               14097         10  \n",
      "11              --               14894          7  \n",
      "12              --               15313         10  \n",
      "13              --               15893         13  \n",
      "14              --               16277          6  \n",
      "15              --               17385          7  \n",
      "Do you want to save changes (y/n): y\n"
     ]
    },
    {
     "ename": "NameError",
     "evalue": "name 'y' is not defined",
     "output_type": "error",
     "traceback": [
      "\u001b[1;31m---------------------------------------------------------------------------\u001b[0m",
      "\u001b[1;31mNameError\u001b[0m                                 Traceback (most recent call last)",
      "\u001b[1;32m<ipython-input-5-bc71ef69432f>\u001b[0m in \u001b[0;36m<module>\u001b[1;34m\u001b[0m\n\u001b[0;32m     20\u001b[0m         \u001b[0mprint\u001b[0m\u001b[1;33m(\u001b[0m\u001b[0msample\u001b[0m\u001b[1;33m)\u001b[0m\u001b[1;33m\u001b[0m\u001b[1;33m\u001b[0m\u001b[0m\n\u001b[0;32m     21\u001b[0m         \u001b[0msave\u001b[0m \u001b[1;33m=\u001b[0m \u001b[0minput\u001b[0m\u001b[1;33m(\u001b[0m\u001b[1;34m\"Do you want to save changes (y/n): \"\u001b[0m\u001b[1;33m)\u001b[0m\u001b[1;33m\u001b[0m\u001b[1;33m\u001b[0m\u001b[0m\n\u001b[1;32m---> 22\u001b[1;33m         \u001b[1;32mif\u001b[0m \u001b[0msave\u001b[0m \u001b[1;33m==\u001b[0m \u001b[0my\u001b[0m \u001b[1;33m:\u001b[0m\u001b[1;33m\u001b[0m\u001b[1;33m\u001b[0m\u001b[0m\n\u001b[0m\u001b[0;32m     23\u001b[0m             \u001b[0mdata\u001b[0m \u001b[1;33m=\u001b[0m \u001b[0msample\u001b[0m\u001b[1;33m\u001b[0m\u001b[1;33m\u001b[0m\u001b[0m\n\u001b[0;32m     24\u001b[0m         \u001b[0mcontinue_\u001b[0m \u001b[1;33m=\u001b[0m \u001b[0minput\u001b[0m\u001b[1;33m(\u001b[0m\u001b[1;34m\"do you want to add more : (y/n)\"\u001b[0m\u001b[1;33m)\u001b[0m\u001b[1;33m\u001b[0m\u001b[1;33m\u001b[0m\u001b[0m\n",
      "\u001b[1;31mNameError\u001b[0m: name 'y' is not defined"
     ]
    }
   ],
   "source": [
    "sample = data\n",
    "continue_ = 'n'\n",
    "continue_ = input(\"Do you have to update the data covid_numbers.csv : (y/n)\")\n",
    "while(continue_ =='y'):\n",
    "    print(\" Options !!\")\n",
    "    print(\"\\tAdd Column : c \\n\\tAdd row values : r\")\n",
    "    op = input(\"Enter your option\")\n",
    "    if op == 'c' :\n",
    "        print(\"-------------------\")\n",
    "        print(\"Adding column\")\n",
    "        print(\"-------------------\")\n",
    "        column_name = input(\"Enter Column name : \")\n",
    "        column_length = len(sample)\n",
    "        print(\"Enter your entries {0} :\".format(\"must be length of  \"),len(sample))\n",
    "        column = []\n",
    "        for i in range(column_length):\n",
    "            value = input()\n",
    "            column.append(value)\n",
    "        sample[column_name] = np.array(column)\n",
    "        print(sample)\n",
    "        save = input(\"Do you want to save changes (y/n): \")\n",
    "        if save == 'y' : \n",
    "            data = sample\n",
    "        continue_ = input(\"do you want to add more : (y/n)\")\n",
    "    if op == 'r' :\n",
    "        print(\"-------------------\")\n",
    "        print(\"Adding row values\")\n",
    "        print(\"-------------------\")\n",
    "        for col in sample.columns:\n",
    "            val = int(input(\"Enter {0}\".format(col)))\n",
    "            dic = {}\n",
    "            \n",
    "        \n",
    "        \n",
    "        \n",
    "        \n",
    "            \n",
    "        \n",
    "        \n",
    "            \n",
    "            \n",
    "            \n",
    "\n",
    "        \n",
    "        "
   ]
  },
  {
   "cell_type": "code",
   "execution_count": 24,
   "metadata": {},
   "outputs": [
    {
     "data": {
      "text/plain": [
       "16"
      ]
     },
     "execution_count": 24,
     "metadata": {},
     "output_type": "execute_result"
    }
   ],
   "source": []
  },
  {
   "cell_type": "code",
   "execution_count": null,
   "metadata": {},
   "outputs": [],
   "source": [
    "import matplotlib\n",
    "plt.plot(data['date'],data['covid_cases'],color='red',marker='o')\n",
    "plt.xticks(rotation=45,ha='right')\n",
    "plt.grid(True)\n",
    "plt.show()"
   ]
  },
  {
   "cell_type": "code",
   "execution_count": 26,
   "metadata": {},
   "outputs": [],
   "source": [
    "fig.savefig('Analysis_CovidCasesDaily.jpg',\n",
    "            format='jpeg',\n",
    "            dpi=100,\n",
    "            bbox_inches='tight')"
   ]
  },
  {
   "cell_type": "code",
   "execution_count": 27,
   "metadata": {},
   "outputs": [
    {
     "data": {
      "image/png": "[encoded data removed]",
      "text/plain": [
       "<Figure size 432x288 with 1 Axes>"
      ]
     },
     "metadata": {
      "needs_background": "light"
     },
     "output_type": "display_data"
    }
   ],
   "source": [
    "import matplotlib\n",
    "plt.plot(data['date'],data['Total_Active_Cases'],color='orange',marker='*')\n",
    "plt.xticks(rotation=45,ha='right')\n",
    "plt.grid(True)\n",
    "plt.show()"
   ]
  },
  {
   "cell_type": "code",
   "execution_count": 28,
   "metadata": {},
   "outputs": [],
   "source": [
    "fig.savefig('Analysis_TotalActiveCases.jpg',\n",
    "            format='jpeg',\n",
    "            dpi=100,\n",
    "            bbox_inches='tight')"
   ]
  },
  {
   "cell_type": "code",
   "execution_count": 29,
   "metadata": {},
   "outputs": [
    {
     "data": {
      "text/plain": [
       "<matplotlib.axes._subplots.AxesSubplot at 0x2006ed72ac8>"
      ]
     },
     "execution_count": 29,
     "metadata": {},
     "output_type": "execute_result"
    },
    {
     "data": {
      "image/png": "[encoded data removed]",
      "text/plain": [
       "<Figure size 720x360 with 1 Axes>"
      ]
     },
     "metadata": {
      "needs_background": "light"
     },
     "output_type": "display_data"
    }
   ],
   "source": [
    "plot_data = data.iloc[:,1:]\n",
    "plot_data.set_index('date').plot(figsize=(10,5), grid=True)"
   ]
  },
  {
   "cell_type": "code",
   "execution_count": null,
   "metadata": {},
   "outputs": [],
   "source": []
  },
  {
   "cell_type": "code",
   "execution_count": null,
   "metadata": {},
   "outputs": [],
   "source": []
  },
  {
   "cell_type": "code",
   "execution_count": 30,
   "metadata": {},
   "outputs": [],
   "source": [
    "fig.savefig('Analysis_Overall_KeralaCovid19.jpg',\n",
    "            format='jpeg',\n",
    "            dpi=100,\n",
    "            bbox_inches='tight')"
   ]
  },
  {
   "cell_type": "code",
   "execution_count": null,
   "metadata": {},
   "outputs": [],
   "source": []
  },
  {
   "cell_type": "code",
   "execution_count": null,
   "metadata": {},
   "outputs": [],
   "source": []
  }
 ],
 "metadata": {
  "kernelspec": {
   "display_name": "Python 3",
   "language": "python",
   "name": "python3"
  },
  "language_info": {
   "codemirror_mode": {
    "name": "ipython",
    "version": 3
   },
   "file_extension": ".py",
   "mimetype": "text/x-python",
   "name": "python",
   "nbconvert_exporter": "python",
   "pygments_lexer": "ipython3",
   "version": "3.7.6"
  }
 },
 "nbformat": 4,
 "nbformat_minor": 4
}
